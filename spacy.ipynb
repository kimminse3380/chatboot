{
 "cells": [
  {
   "cell_type": "markdown",
   "id": "ccbd2057",
   "metadata": {},
   "source": [
    "# install"
   ]
  },
  {
   "cell_type": "code",
   "execution_count": null,
   "id": "daa05223",
   "metadata": {
    "scrolled": false
   },
   "outputs": [],
   "source": [
    "!pip install spacy"
   ]
  },
  {
   "cell_type": "code",
   "execution_count": null,
   "id": "670f68a4",
   "metadata": {},
   "outputs": [],
   "source": [
    "!pip install nltk"
   ]
  },
  {
   "cell_type": "code",
   "execution_count": null,
   "id": "a8df7bc8",
   "metadata": {},
   "outputs": [],
   "source": [
    "!python -m spacy download ko_core_web_sm"
   ]
  },
  {
   "cell_type": "code",
   "execution_count": null,
   "id": "266ceaf6",
   "metadata": {
    "scrolled": true
   },
   "outputs": [],
   "source": [
    "!python -m spacy download en_core_web_sm"
   ]
  },
  {
   "cell_type": "markdown",
   "id": "50ec8337",
   "metadata": {},
   "source": [
    "# POS Tagging"
   ]
  },
  {
   "cell_type": "code",
   "execution_count": null,
   "id": "5552ea12",
   "metadata": {
    "scrolled": true
   },
   "outputs": [],
   "source": [
    "import spacy\n",
    "\n",
    "nlp = spacy.load('en_core_web_sm')\n",
    "doc = nlp(u'I am learning how to build chatbots')\n",
    "\n",
    "for token in doc:\n",
    "    print(token.text, token.pos_)"
   ]
  },
  {
   "cell_type": "code",
   "execution_count": null,
   "id": "d12273a1",
   "metadata": {},
   "outputs": [],
   "source": [
    "nlp = spacy.load('en_core_web_sm')\n",
    "doc = nlp(u'I am going to London net week for a meeting.')\n",
    "\n",
    "for token in doc:\n",
    "    print(token.text, token.pos_)"
   ]
  },
  {
   "cell_type": "code",
   "execution_count": null,
   "id": "becaef80",
   "metadata": {},
   "outputs": [],
   "source": [
    "nlp = spacy.load('en_core_web_sm')\n",
    "doc = nlp(u'Google release \"MOVE MIRROR\" AI experiment that matches your pose from 80,000 images')\n",
    "\n",
    "for token in doc:\n",
    "    print(token.text, token.lemma, token.pos_, token.tag_, token.dep_, token.shape_, token.is_alpha, token.is_stop)"
   ]
  },
  {
   "cell_type": "markdown",
   "id": "fdd83f7b",
   "metadata": {},
   "source": [
    "# Stemming and Lemmatization"
   ]
  },
  {
   "cell_type": "code",
   "execution_count": null,
   "id": "765d468e",
   "metadata": {},
   "outputs": [],
   "source": [
    "import spacy\n",
    "\n",
    "nlp = spacy.load('en_core_web_sm')\n",
    "\n",
    "text = \"I am learning how to build chatbots\"\n",
    "\n",
    "doc = nlp(text)\n",
    "\n",
    "standardized_text = ' '.join([token.lemma_ for token in doc])\n",
    "\n",
    "print(standardized_text)"
   ]
  },
  {
   "cell_type": "markdown",
   "id": "004160a0",
   "metadata": {},
   "source": [
    "# Named-Entity Recognition"
   ]
  },
  {
   "cell_type": "code",
   "execution_count": null,
   "id": "b49e0a39",
   "metadata": {},
   "outputs": [],
   "source": [
    "my_string = u\"Google has its headquarters in Mountain View, Korea having revenue amounted to 109.65 billion US dollars\"\n",
    "doc = nlp(my_string)\n",
    "\n",
    "for ent in doc.ents:\n",
    "    print(ent.text, ent.label_)"
   ]
  },
  {
   "cell_type": "markdown",
   "id": "81367793",
   "metadata": {},
   "source": [
    "# STOP WORDS"
   ]
  },
  {
   "cell_type": "code",
   "execution_count": 22,
   "id": "3bb4a400",
   "metadata": {},
   "outputs": [
    {
     "name": "stdout",
     "output_type": "stream",
     "text": [
      "{'amongst', 'become', 'seems', 'so', 'moreover', '‘re', 'three', 'might', 'via', 'himself', 'be', 'really', 'there', 'always', 'everyone', 'but', 'mine', 'thereafter', 'every', 'everything', 'how', 'top', 'hereupon', 'one', 'six', 'off', '’s', \"'re\", 'still', 'anyhow', 'ours', 'wherever', 'on', 'nobody', 'move', 'yours', 'besides', 'amount', 'hers', 'anyway', 'enough', 'two', 'next', 'four', 'the', 'those', 'such', 'her', 'empty', 'their', 'she', 'somehow', 'what', 'already', 'herself', 'alone', 'several', 'put', 'afterwards', 'without', 'before', 'sixty', 'yourself', 'nor', 'some', \"'s\", '‘ve', 'now', 'whom', 'very', 'around', 'from', 'same', 'whereupon', 'other', 'anyone', 'though', 're', '’ve', 'throughout', 'never', 'more', 'by', 'least', 'not', '’re', 'many', 'used', 'whence', 'an', 'call', 'out', 'wherein', 'seeming', 'hereby', 'under', 'him', 'serious', 'most', 'noone', 'thus', 'either', 'even', 'am', 'behind', 'well', \"'d\", 'a', 'anything', 'cannot', 'unless', 'others', 'however', 'myself', 'eight', 'whenever', 'both', 'meanwhile', 'can', '’m', 'down', 'thence', 'me', 'twenty', 'should', 'it', \"'ve\", 'were', 'than', 'part', 'sometimes', 'ever', 'could', 'to', 'whither', 'whereas', 'into', 'became', 'about', 'go', 'various', 'few', 'nothing', 'them', 'when', 'hereafter', 'between', 'ten', 'this', 'see', 'as', 'beside', 'its', 'has', 'i', \"n't\", 'becoming', 'hundred', 'since', 'third', 'someone', 'does', 'everywhere', 'name', 'above', 'latter', 'during', 'ourselves', 'against', 'they', 'across', 'beyond', 'no', 'whose', 'will', 'quite', 'once', 'else', 'per', 'any', 'may', 'your', 'if', 'neither', 'own', '‘ll', 'something', 'nine', 'then', 'another', 'side', 'whoever', 'further', 'and', 'take', 'ca', 'get', 'somewhere', 'thereby', 'regarding', 'while', 'first', 'would', 'therein', 'within', 'yet', 'because', 'eleven', 'are', 'last', 'all', 'anywhere', 'only', 'fifteen', 'therefore', 'where', 'whether', 'fifty', 'my', 'thereupon', 'indeed', 'among', 'do', 'latterly', 'also', 'although', 'forty', 'along', 'have', 'nevertheless', 'nowhere', 'yourselves', 'these', 'he', 'five', 'n’t', 'together', 'whatever', '’d', 'doing', 'almost', '’ll', 'just', 'please', 'rather', 'whole', 'full', 'often', 'why', 'otherwise', 'thru', 'below', 'front', 'until', 'our', 'twelve', 'we', 'who', 'after', 'mostly', '‘s', 'sometime', 'did', '‘d', 'whereafter', 'bottom', 'show', 'whereby', 'upon', 'or', 'formerly', 'give', 'again', 'of', 'that', 'namely', 'much', 'less', 'seemed', 'due', 'n‘t', 'must', 'had', 'towards', 'former', 'perhaps', 'elsewhere', '‘m', 'make', 'over', 'becomes', 'herein', 'each', 'using', 'made', \"'ll\", 'back', 'say', 'hence', 'beforehand', 'in', 'for', 'up', 'here', 'themselves', 'you', 'through', 'which', 'being', 'none', 'was', 'us', 'seem', 'too', 'onto', \"'m\", 'except', 'keep', 'with', 'his', 'itself', 'toward', 'is', 'at', 'done', 'been'}\n"
     ]
    }
   ],
   "source": [
    "import spacy\n",
    "nlp = spacy.load('en_core_web_sm')\n",
    "stop_words = nlp.Defaults.stop_words\n",
    "print(stop_words)"
   ]
  },
  {
   "cell_type": "code",
   "execution_count": null,
   "id": "453aa909",
   "metadata": {},
   "outputs": [],
   "source": []
  }
 ],
 "metadata": {
  "kernelspec": {
   "display_name": "Python 3 (ipykernel)",
   "language": "python",
   "name": "python3"
  },
  "language_info": {
   "codemirror_mode": {
    "name": "ipython",
    "version": 3
   },
   "file_extension": ".py",
   "mimetype": "text/x-python",
   "name": "python",
   "nbconvert_exporter": "python",
   "pygments_lexer": "ipython3",
   "version": "3.9.13"
  }
 },
 "nbformat": 4,
 "nbformat_minor": 5
}
