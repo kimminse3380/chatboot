{
 "cells": [
  {
   "cell_type": "markdown",
   "id": "e373be30",
   "metadata": {},
   "source": [
    "# install"
   ]
  },
  {
   "cell_type": "code",
   "execution_count": 43,
   "id": "0bc3cda6",
   "metadata": {},
   "outputs": [
    {
     "name": "stdout",
     "output_type": "stream",
     "text": [
      "Found existing installation: konlpy 0.5.2\n",
      "Uninstalling konlpy-0.5.2:\n",
      "  Successfully uninstalled konlpy-0.5.2\n"
     ]
    }
   ],
   "source": [
    "!pip uninstall konlpy -y"
   ]
  },
  {
   "cell_type": "code",
   "execution_count": 41,
   "id": "129915eb",
   "metadata": {},
   "outputs": [
    {
     "name": "stdout",
     "output_type": "stream",
     "text": [
      "0.6.0\n"
     ]
    }
   ],
   "source": [
    "import konlpy\n",
    "print(konlpy.__version__)"
   ]
  },
  {
   "cell_type": "markdown",
   "id": "483d3b9c",
   "metadata": {},
   "source": [
    "# 형태소 분석"
   ]
  },
  {
   "cell_type": "code",
   "execution_count": 6,
   "id": "315095d0",
   "metadata": {},
   "outputs": [
    {
     "name": "stdout",
     "output_type": "stream",
     "text": [
      "[('나', 'Noun'), ('는', 'Josa'), ('자연어', 'Noun'), ('처리', 'Noun'), ('를', 'Josa'), ('배우고', 'Verb'), ('있습니다', 'Adjective'), ('.', 'Punctuation')]\n"
     ]
    }
   ],
   "source": [
    "from konlpy.tag import Okt\n",
    "\n",
    "okt = Okt()\n",
    "text = \"나는 자연어 처리를 배우고 있습니다.\"\n",
    "result = okt.pos(text)\n",
    "\n",
    "print(result)"
   ]
  },
  {
   "cell_type": "code",
   "execution_count": 7,
   "id": "5a55a92f",
   "metadata": {},
   "outputs": [
    {
     "name": "stdout",
     "output_type": "stream",
     "text": [
      "[('오늘', 'Noun'), ('은', 'Josa'), ('날씨', 'Noun'), ('가', 'Josa'), ('좋아요', 'Adjective'), ('.', 'Punctuation')]\n"
     ]
    }
   ],
   "source": [
    "from konlpy.tag import Okt\n",
    "\n",
    "okt = Okt()\n",
    "text = \"오늘은 날씨가 좋아요.\"\n",
    "result = okt.pos(text)\n",
    "\n",
    "print(result)"
   ]
  },
  {
   "cell_type": "code",
   "execution_count": 8,
   "id": "8fe8a249",
   "metadata": {},
   "outputs": [
    {
     "name": "stdout",
     "output_type": "stream",
     "text": [
      "[('오늘', 'Noun'), ('은', 'Josa'), ('저녁', 'Noun'), ('메뉴', 'Noun'), ('는', 'Josa'), ('먼가요', 'Adjective'), ('?', 'Punctuation')]\n"
     ]
    }
   ],
   "source": [
    "text = \"오늘은 저녁 메뉴는 먼가요?\"\n",
    "result = okt.pos(text)\n",
    "\n",
    "print(result)"
   ]
  },
  {
   "cell_type": "markdown",
   "id": "1e13e59f",
   "metadata": {},
   "source": [
    "# 어간 추출과 표제어 추출"
   ]
  },
  {
   "cell_type": "code",
   "execution_count": 44,
   "id": "da90fef7",
   "metadata": {},
   "outputs": [
    {
     "name": "stdout",
     "output_type": "stream",
     "text": [
      "그 Noun\n",
      "는 Josa\n",
      "정말로 Adverb\n",
      "자다 Verb\n",
      "생기다 Verb\n"
     ]
    }
   ],
   "source": [
    "from konlpy.tag import Okt\n",
    "\n",
    "okt = Okt()\n",
    "text = \"그는 정말로 잘 생겼다\"\n",
    "words = okt.pos(text, stem=True)\n",
    "\n",
    "for word in words:\n",
    "    print(word[0], word[1])\n"
   ]
  },
  {
   "cell_type": "code",
   "execution_count": 63,
   "id": "b5e07937",
   "metadata": {},
   "outputs": [
    {
     "name": "stdout",
     "output_type": "stream",
     "text": [
      "나 늘 잘생기 어 다 .\n"
     ]
    }
   ],
   "source": [
    "from konlpy.tag import Kkma\n",
    "\n",
    "kkma = Kkma()\n",
    "\n",
    "def lemmatize(word):\n",
    "    # 형태소 추출\n",
    "    morphs = kkma.morphs(word)\n",
    "    \n",
    "    # 각 형태소의 품사와 원형을 추출\n",
    "    lemmas = []\n",
    "    for morph in morphs:\n",
    "        pos = kkma.pos(morph)\n",
    "        if pos[0][1].startswith('N'):\n",
    "            # 명사일 경우\n",
    "            lemma = pos[0][0]\n",
    "        elif pos[0][1].startswith('V'):\n",
    "            # 동사일 경우\n",
    "            lemma = kkma.morphs(pos[0][0])[0]\n",
    "        else:\n",
    "            # 그 외의 경우\n",
    "            lemma = morph\n",
    "        lemmas.append(lemma)\n",
    "    \n",
    "    # 추출된 원형들을 공백으로 이어붙여 리턴\n",
    "    return ' '.join(lemmas)\n",
    "\n",
    "# 테스트\n",
    "sentence = '나는 잘생겼다.'\n",
    "print(lemmatize(sentence))\n"
   ]
  },
  {
   "cell_type": "markdown",
   "id": "acfcca19",
   "metadata": {},
   "source": [
    "# 개체명 인식"
   ]
  },
  {
   "cell_type": "code",
   "execution_count": 64,
   "id": "c54c9606",
   "metadata": {},
   "outputs": [
    {
     "name": "stdout",
     "output_type": "stream",
     "text": [
      "[('오늘', 'NNG'), ('은', 'JX'), ('서울', 'NNG'), ('에', 'JKM'), ('있', 'VV'), ('는', 'ETD'), ('카페', 'NNG'), ('에서', 'JKM'), ('커피', 'NNG'), ('를', 'JKO'), ('마시', 'VV'), ('었', 'EPT'), ('다', 'EFN'), ('.', 'SF')]\n"
     ]
    }
   ],
   "source": [
    "from konlpy.tag import Kkma\n",
    "\n",
    "kkma = Kkma()\n",
    "\n",
    "sentence = '오늘은 서울에 있는 카페에서 커피를 마셨다.'\n",
    "pos_result = kkma.pos(sentence, flatten=True)\n",
    "\n",
    "print(pos_result)"
   ]
  },
  {
   "cell_type": "code",
   "execution_count": 65,
   "id": "113702df",
   "metadata": {},
   "outputs": [
    {
     "name": "stdout",
     "output_type": "stream",
     "text": [
      "[('그', 'MDT'), ('사람', 'NNG'), ('이', 'JKS'), ('가', 'VV'), ('었', 'EPT'), ('다', 'EFN')]\n"
     ]
    }
   ],
   "source": [
    "from konlpy.tag import Kkma\n",
    "\n",
    "kkma = Kkma()\n",
    "\n",
    "sentence = '그 사람이 갔다'\n",
    "pos_result = kkma.pos(sentence, flatten=True)\n",
    "\n",
    "print(pos_result)"
   ]
  },
  {
   "cell_type": "code",
   "execution_count": null,
   "id": "39c77f1a",
   "metadata": {},
   "outputs": [],
   "source": []
  }
 ],
 "metadata": {
  "kernelspec": {
   "display_name": "Python 3 (ipykernel)",
   "language": "python",
   "name": "python3"
  },
  "language_info": {
   "codemirror_mode": {
    "name": "ipython",
    "version": 3
   },
   "file_extension": ".py",
   "mimetype": "text/x-python",
   "name": "python",
   "nbconvert_exporter": "python",
   "pygments_lexer": "ipython3",
   "version": "3.9.13"
  }
 },
 "nbformat": 4,
 "nbformat_minor": 5
}
